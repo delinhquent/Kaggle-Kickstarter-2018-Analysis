{
 "cells": [
  {
   "cell_type": "markdown",
   "metadata": {},
   "source": [
    "<center><h1>Kick Starter Project 2018 Analysis</h1></center>\n",
    "<hr>\n",
    "\n",
    "### Author(s)\n",
    "\n",
    "- Ong De Lin (@Delinhquent)\n",
    "\n",
    "- Chong Jun Guo (@JunGuoo)\n",
    "\n",
    "from 7 May 2019 Sat 7.00pm"
   ]
  },
  {
   "cell_type": "markdown",
   "metadata": {},
   "source": [
    "### Executive Summary\n",
    "\n",
    "As technology is advancing, we believed that technology projects has a very high chance of success. After analyzing, we found out that this is false as technology has a higher failure rate than success rate.\n",
    "\n",
    "We would also like to look into what are the attributes that will make a kickstarter project succeed."
   ]
  },
  {
   "cell_type": "markdown",
   "metadata": {},
   "source": [
    "### Research Topic & Hypothesis\n",
    "\n",
    "As technology is advancing, we believed that technology projects has a very high chance of success.\n",
    "\n",
    "We would also like to look into what are the attributes that will make a kickstarter project succeed.\n",
    "\n",
    "<hr>\n",
    "\n",
    "**Datasets used:**\n",
    "- Source 1 ([Dataset 1](https://www.kaggle.com/kemical/kickstarter-projects#ks-projects-201801.csv)) retrieved on 25 May 2019\n",
    "\n"
   ]
  },
  {
   "cell_type": "markdown",
   "metadata": {},
   "source": [
    "<h1> Importing Relevant Libraries </h1>"
   ]
  },
  {
   "cell_type": "code",
   "execution_count": 1,
   "metadata": {
    "ExecuteTime": {
     "end_time": "2019-04-27T11:23:15.824369Z",
     "start_time": "2019-04-27T11:23:15.478164Z"
    }
   },
   "outputs": [],
   "source": [
    "import pandas as pd\n",
    "import numpy as np\n",
    "import matplotlib.pyplot as plt\n",
    "import seaborn as sns\n",
    "# Set matplotlib inline\n",
    "%matplotlib inline\n",
    "\n",
    "from scipy.stats import entropy\n",
    "from sklearn.tree import DecisionTreeClassifier\n",
    "from sklearn import tree\n",
    "from sklearn.preprocessing import StandardScaler\n",
    "from sklearn.model_selection import train_test_split, KFold\n",
    "from sklearn.metrics import confusion_matrix\n",
    "from sklearn.metrics import f1_score, recall_score, precision_score, confusion_matrix,accuracy_score, roc_curve, auc"
   ]
  },
  {
   "cell_type": "markdown",
   "metadata": {},
   "source": [
    "<h1> Importing Dataset </h1>"
   ]
  },
  {
   "cell_type": "code",
   "execution_count": 2,
   "metadata": {
    "ExecuteTime": {
     "end_time": "2019-04-27T11:23:15.831939Z",
     "start_time": "2019-04-27T11:23:15.826775Z"
    },
    "scrolled": true
   },
   "outputs": [
    {
     "data": {
      "text/html": [
       "<div>\n",
       "<style scoped>\n",
       "    .dataframe tbody tr th:only-of-type {\n",
       "        vertical-align: middle;\n",
       "    }\n",
       "\n",
       "    .dataframe tbody tr th {\n",
       "        vertical-align: top;\n",
       "    }\n",
       "\n",
       "    .dataframe thead th {\n",
       "        text-align: right;\n",
       "    }\n",
       "</style>\n",
       "<table border=\"1\" class=\"dataframe\">\n",
       "  <thead>\n",
       "    <tr style=\"text-align: right;\">\n",
       "      <th></th>\n",
       "      <th>ID</th>\n",
       "      <th>name</th>\n",
       "      <th>category</th>\n",
       "      <th>main_category</th>\n",
       "      <th>currency</th>\n",
       "      <th>deadline</th>\n",
       "      <th>goal</th>\n",
       "      <th>launched</th>\n",
       "      <th>pledged</th>\n",
       "      <th>state</th>\n",
       "      <th>backers</th>\n",
       "      <th>country</th>\n",
       "      <th>usd pledged</th>\n",
       "      <th>usd_pledged_real</th>\n",
       "      <th>usd_goal_real</th>\n",
       "    </tr>\n",
       "  </thead>\n",
       "  <tbody>\n",
       "    <tr>\n",
       "      <th>0</th>\n",
       "      <td>1000002330</td>\n",
       "      <td>The Songs of Adelaide &amp; Abullah</td>\n",
       "      <td>Poetry</td>\n",
       "      <td>Publishing</td>\n",
       "      <td>GBP</td>\n",
       "      <td>2015-10-09</td>\n",
       "      <td>1000.0</td>\n",
       "      <td>2015-08-11 12:12:28</td>\n",
       "      <td>0.0</td>\n",
       "      <td>failed</td>\n",
       "      <td>0</td>\n",
       "      <td>GB</td>\n",
       "      <td>0.0</td>\n",
       "      <td>0.0</td>\n",
       "      <td>1533.95</td>\n",
       "    </tr>\n",
       "    <tr>\n",
       "      <th>1</th>\n",
       "      <td>1000003930</td>\n",
       "      <td>Greeting From Earth: ZGAC Arts Capsule For ET</td>\n",
       "      <td>Narrative Film</td>\n",
       "      <td>Film &amp; Video</td>\n",
       "      <td>USD</td>\n",
       "      <td>2017-11-01</td>\n",
       "      <td>30000.0</td>\n",
       "      <td>2017-09-02 04:43:57</td>\n",
       "      <td>2421.0</td>\n",
       "      <td>failed</td>\n",
       "      <td>15</td>\n",
       "      <td>US</td>\n",
       "      <td>100.0</td>\n",
       "      <td>2421.0</td>\n",
       "      <td>30000.00</td>\n",
       "    </tr>\n",
       "    <tr>\n",
       "      <th>2</th>\n",
       "      <td>1000004038</td>\n",
       "      <td>Where is Hank?</td>\n",
       "      <td>Narrative Film</td>\n",
       "      <td>Film &amp; Video</td>\n",
       "      <td>USD</td>\n",
       "      <td>2013-02-26</td>\n",
       "      <td>45000.0</td>\n",
       "      <td>2013-01-12 00:20:50</td>\n",
       "      <td>220.0</td>\n",
       "      <td>failed</td>\n",
       "      <td>3</td>\n",
       "      <td>US</td>\n",
       "      <td>220.0</td>\n",
       "      <td>220.0</td>\n",
       "      <td>45000.00</td>\n",
       "    </tr>\n",
       "  </tbody>\n",
       "</table>\n",
       "</div>"
      ],
      "text/plain": [
       "           ID                                           name        category  \\\n",
       "0  1000002330                The Songs of Adelaide & Abullah          Poetry   \n",
       "1  1000003930  Greeting From Earth: ZGAC Arts Capsule For ET  Narrative Film   \n",
       "2  1000004038                                 Where is Hank?  Narrative Film   \n",
       "\n",
       "  main_category currency    deadline     goal             launched  pledged  \\\n",
       "0    Publishing      GBP  2015-10-09   1000.0  2015-08-11 12:12:28      0.0   \n",
       "1  Film & Video      USD  2017-11-01  30000.0  2017-09-02 04:43:57   2421.0   \n",
       "2  Film & Video      USD  2013-02-26  45000.0  2013-01-12 00:20:50    220.0   \n",
       "\n",
       "    state  backers country  usd pledged  usd_pledged_real  usd_goal_real  \n",
       "0  failed        0      GB          0.0               0.0        1533.95  \n",
       "1  failed       15      US        100.0            2421.0       30000.00  \n",
       "2  failed        3      US        220.0             220.0       45000.00  "
      ]
     },
     "execution_count": 2,
     "metadata": {},
     "output_type": "execute_result"
    }
   ],
   "source": [
    "# dec2016df = pd.read_csv('ks-projects-201612.csv')\n",
    "df = pd.read_csv('ks-projects-201801.csv')\n",
    "df.head(3)"
   ]
  },
  {
   "cell_type": "markdown",
   "metadata": {},
   "source": [
    "<h1> Exploratory Data Analysis </h1>"
   ]
  },
  {
   "cell_type": "code",
   "execution_count": 3,
   "metadata": {},
   "outputs": [
    {
     "data": {
      "text/plain": [
       "(378661, 15)"
      ]
     },
     "execution_count": 3,
     "metadata": {},
     "output_type": "execute_result"
    }
   ],
   "source": [
    "df.shape"
   ]
  },
  {
   "cell_type": "markdown",
   "metadata": {},
   "source": [
    "From here, we can see that the original dataset has 378,661 rows with 15 columns."
   ]
  },
  {
   "cell_type": "code",
   "execution_count": 4,
   "metadata": {},
   "outputs": [
    {
     "name": "stdout",
     "output_type": "stream",
     "text": [
      "There are no duplicated rows\n"
     ]
    },
    {
     "data": {
      "text/plain": [
       "ID                     0\n",
       "name                   4\n",
       "category               0\n",
       "main_category          0\n",
       "currency               0\n",
       "deadline               0\n",
       "goal                   0\n",
       "launched               0\n",
       "pledged                0\n",
       "state                  0\n",
       "backers                0\n",
       "country                0\n",
       "usd pledged         3797\n",
       "usd_pledged_real       0\n",
       "usd_goal_real          0\n",
       "dtype: int64"
      ]
     },
     "execution_count": 4,
     "metadata": {},
     "output_type": "execute_result"
    }
   ],
   "source": [
    "#Check for duplicated rows\n",
    "count = 0\n",
    "for rows in df.duplicated():\n",
    "    if rows == True:\n",
    "        count += 1\n",
    "if count > 0:\n",
    "    print(\"There are\",count,\"duplicated rows\")\n",
    "else:\n",
    "    print(\"There are no duplicated rows\")\n",
    "\n",
    "#check for null values\n",
    "total = df.isnull().sum().sort_values(ascending = False)\n",
    "percent = (df.isnull().sum()/df.isnull().count()*100).sort_values(ascending = False)\n",
    "df.isnull().sum()"
   ]
  },
  {
   "cell_type": "markdown",
   "metadata": {},
   "source": [
    "From here, we can see that  there is no duplicated rows.\n",
    "\n",
    "Although there are null values in name and usd pledged column, there is no significant impact to our analysis.\n",
    "\n",
    "Name does not have any meaningful contribution to our analysis. Usd Pledged can be replaced with usd_pledged_real."
   ]
  },
  {
   "cell_type": "code",
   "execution_count": 5,
   "metadata": {},
   "outputs": [
    {
     "data": {
      "image/png": "[encoded data removed]",
      "text/plain": [
       "<Figure size 1152x576 with 2 Axes>"
      ]
     },
     "metadata": {
      "needs_background": "light"
     },
     "output_type": "display_data"
    }
   ],
   "source": [
    "main_categories = df.groupby('main_category')['ID'].nunique().sort_values(ascending=False).reset_index(name='count')\n",
    "# print(main_categories)\n",
    "\n",
    "fig = plt.figure(figsize=(16, 8))\n",
    "\n",
    "ax1 = fig.add_subplot(1,2,1)\n",
    "ax2 = fig.add_subplot(1,2,2)\n",
    "\n",
    "main_categories.plot(kind='bar', x='main_category', y='count', ax=ax1)\n",
    "ax1.set_ylabel(\"No. of projects\")\n",
    "ax1.set_xlabel(\"Main categories\")\n",
    "ax1.set_title(\"Main categories of all Kickstarter Projects\")\n",
    "ax1.legend(['No. of projects'])\n",
    "\n",
    "sub_categories = df.groupby('category')['ID'].nunique().sort_values(ascending=False).reset_index(name='count')\n",
    "# print(sub_categories[:10])\n",
    "\n",
    "\n",
    "sub_categories[:10].plot(kind='bar', x='category', y='count', ax=ax2)\n",
    "ax2.set_ylabel(\"No. of projects\")\n",
    "ax2.set_xlabel(\"Sub categories\")\n",
    "ax2.set_title(\"Sub categories of all Kickstarter Projects\")\n",
    "ax2.legend(['No. of projects'])\n",
    "\n",
    "plt.show()"
   ]
  },
  {
   "cell_type": "markdown",
   "metadata": {},
   "source": [
    "On the left, these are the main categories of all Kickstarter Projects along with the count of each categories.\n",
    "The most popular categories are \"Film & Video\", \"Music\", \"Publishing\", \"Games\" and \"Technology\".\n",
    "The least popular categories are \"Dance\", \"Journalism\", \"Crafts\", \"Photography\" and \"Comics\".\n",
    "\n",
    "On the right, these are the sub categories of all Kickstarter Projects along with the count of each categories.\n",
    "The top 10 most popular sub categories are \"Product Design\", \"Documentary\", \"Music\", \"Tabletop Games\", \"Shorts\",\n",
    "\"Video Games\", \"Food\", \"Film & Video\", \"Fiction\" and \"Fashion\"."
   ]
  },
  {
   "cell_type": "code",
   "execution_count": 6,
   "metadata": {},
   "outputs": [
    {
     "name": "stdout",
     "output_type": "stream",
     "text": [
      "country\n",
      "US      292627\n",
      "GB       33672\n",
      "CA       14756\n",
      "AU        7839\n",
      "DE        4171\n",
      "N,0\"      3797\n",
      "FR        2939\n",
      "IT        2878\n",
      "NL        2868\n",
      "ES        2276\n",
      "SE        1757\n",
      "MX        1752\n",
      "NZ        1447\n",
      "DK        1113\n",
      "IE         811\n",
      "CH         761\n",
      "NO         708\n",
      "HK         618\n",
      "BE         617\n",
      "AT         597\n",
      "SG         555\n",
      "LU          62\n",
      "JP          40\n",
      "Name: ID, dtype: int64\n"
     ]
    }
   ],
   "source": [
    "countries = df.groupby('country')['ID'].nunique().sort_values(ascending=False)\n",
    "print(countries)"
   ]
  },
  {
   "cell_type": "code",
   "execution_count": 7,
   "metadata": {},
   "outputs": [
    {
     "data": {
      "text/html": [
       "<div>\n",
       "<style scoped>\n",
       "    .dataframe tbody tr th:only-of-type {\n",
       "        vertical-align: middle;\n",
       "    }\n",
       "\n",
       "    .dataframe tbody tr th {\n",
       "        vertical-align: top;\n",
       "    }\n",
       "\n",
       "    .dataframe thead th {\n",
       "        text-align: right;\n",
       "    }\n",
       "</style>\n",
       "<table border=\"1\" class=\"dataframe\">\n",
       "  <thead>\n",
       "    <tr style=\"text-align: right;\">\n",
       "      <th></th>\n",
       "      <th>state</th>\n",
       "      <th>count</th>\n",
       "    </tr>\n",
       "  </thead>\n",
       "  <tbody>\n",
       "    <tr>\n",
       "      <th>0</th>\n",
       "      <td>canceled</td>\n",
       "      <td>38779</td>\n",
       "    </tr>\n",
       "    <tr>\n",
       "      <th>1</th>\n",
       "      <td>failed</td>\n",
       "      <td>197719</td>\n",
       "    </tr>\n",
       "    <tr>\n",
       "      <th>2</th>\n",
       "      <td>live</td>\n",
       "      <td>2799</td>\n",
       "    </tr>\n",
       "    <tr>\n",
       "      <th>3</th>\n",
       "      <td>successful</td>\n",
       "      <td>133956</td>\n",
       "    </tr>\n",
       "    <tr>\n",
       "      <th>4</th>\n",
       "      <td>suspended</td>\n",
       "      <td>1846</td>\n",
       "    </tr>\n",
       "    <tr>\n",
       "      <th>5</th>\n",
       "      <td>undefined</td>\n",
       "      <td>3562</td>\n",
       "    </tr>\n",
       "  </tbody>\n",
       "</table>\n",
       "</div>"
      ],
      "text/plain": [
       "        state   count\n",
       "0    canceled   38779\n",
       "1      failed  197719\n",
       "2        live    2799\n",
       "3  successful  133956\n",
       "4   suspended    1846\n",
       "5   undefined    3562"
      ]
     },
     "execution_count": 7,
     "metadata": {},
     "output_type": "execute_result"
    }
   ],
   "source": [
    "statusdf = df.copy()\n",
    "statusdf = statusdf.groupby('state').size().reset_index(name='count')\n",
    "statusdf"
   ]
  },
  {
   "cell_type": "markdown",
   "metadata": {},
   "source": [
    "As there are many different state, for simplicity, we will only analyze two states, \"Successful\" & \"Failed\"\n",
    "This will be based on the usd_pledged_real and usd_goal_real. If usd_pledged_real is more than or equals to\n",
    "usd_goal_real, we will treat it as successful (1). Else, failed (0)."
   ]
  },
  {
   "cell_type": "code",
   "execution_count": 8,
   "metadata": {
    "scrolled": true
   },
   "outputs": [
    {
     "data": {
      "text/html": [
       "<div>\n",
       "<style scoped>\n",
       "    .dataframe tbody tr th:only-of-type {\n",
       "        vertical-align: middle;\n",
       "    }\n",
       "\n",
       "    .dataframe tbody tr th {\n",
       "        vertical-align: top;\n",
       "    }\n",
       "\n",
       "    .dataframe thead th {\n",
       "        text-align: right;\n",
       "    }\n",
       "</style>\n",
       "<table border=\"1\" class=\"dataframe\">\n",
       "  <thead>\n",
       "    <tr style=\"text-align: right;\">\n",
       "      <th></th>\n",
       "      <th>newstate</th>\n",
       "      <th>count</th>\n",
       "    </tr>\n",
       "  </thead>\n",
       "  <tbody>\n",
       "    <tr>\n",
       "      <th>0</th>\n",
       "      <td>0.0</td>\n",
       "      <td>241619</td>\n",
       "    </tr>\n",
       "    <tr>\n",
       "      <th>1</th>\n",
       "      <td>1.0</td>\n",
       "      <td>137042</td>\n",
       "    </tr>\n",
       "  </tbody>\n",
       "</table>\n",
       "</div>"
      ],
      "text/plain": [
       "   newstate   count\n",
       "0       0.0  241619\n",
       "1       1.0  137042"
      ]
     },
     "execution_count": 8,
     "metadata": {},
     "output_type": "execute_result"
    }
   ],
   "source": [
    "updateddf = df.copy()\n",
    "updateddf.loc[updateddf.usd_pledged_real >= updateddf.usd_goal_real, 'newstate'] = 1  \n",
    "updateddf.loc[updateddf.usd_pledged_real < updateddf.usd_goal_real, 'newstate'] = 0  \n",
    "\n",
    "newstatusdf = updateddf.copy()\n",
    "newstatusdf = updateddf.groupby('newstate').size().reset_index(name='count')\n",
    "newstatusdf"
   ]
  },
  {
   "cell_type": "markdown",
   "metadata": {},
   "source": [
    "From here, we can see that projects have a failure rate of % and success rate of %."
   ]
  },
  {
   "cell_type": "code",
   "execution_count": 9,
   "metadata": {},
   "outputs": [
    {
     "data": {
      "text/html": [
       "<div>\n",
       "<style scoped>\n",
       "    .dataframe tbody tr th:only-of-type {\n",
       "        vertical-align: middle;\n",
       "    }\n",
       "\n",
       "    .dataframe tbody tr th {\n",
       "        vertical-align: top;\n",
       "    }\n",
       "\n",
       "    .dataframe thead th {\n",
       "        text-align: right;\n",
       "    }\n",
       "</style>\n",
       "<table border=\"1\" class=\"dataframe\">\n",
       "  <thead>\n",
       "    <tr style=\"text-align: right;\">\n",
       "      <th></th>\n",
       "      <th>category</th>\n",
       "      <th>newstate</th>\n",
       "      <th>count</th>\n",
       "    </tr>\n",
       "  </thead>\n",
       "  <tbody>\n",
       "    <tr>\n",
       "      <th>0</th>\n",
       "      <td>3D Printing</td>\n",
       "      <td>0.0</td>\n",
       "      <td>435</td>\n",
       "    </tr>\n",
       "    <tr>\n",
       "      <th>1</th>\n",
       "      <td>3D Printing</td>\n",
       "      <td>1.0</td>\n",
       "      <td>248</td>\n",
       "    </tr>\n",
       "    <tr>\n",
       "      <th>2</th>\n",
       "      <td>Academic</td>\n",
       "      <td>0.0</td>\n",
       "      <td>726</td>\n",
       "    </tr>\n",
       "    <tr>\n",
       "      <th>3</th>\n",
       "      <td>Academic</td>\n",
       "      <td>1.0</td>\n",
       "      <td>190</td>\n",
       "    </tr>\n",
       "    <tr>\n",
       "      <th>4</th>\n",
       "      <td>Accessories</td>\n",
       "      <td>0.0</td>\n",
       "      <td>2067</td>\n",
       "    </tr>\n",
       "  </tbody>\n",
       "</table>\n",
       "</div>"
      ],
      "text/plain": [
       "      category  newstate  count\n",
       "0  3D Printing       0.0    435\n",
       "1  3D Printing       1.0    248\n",
       "2     Academic       0.0    726\n",
       "3     Academic       1.0    190\n",
       "4  Accessories       0.0   2067"
      ]
     },
     "execution_count": 9,
     "metadata": {},
     "output_type": "execute_result"
    }
   ],
   "source": [
    "categorystatusdf = updateddf.copy()\n",
    "categorystatusdf.groupby(['category','newstate']).size().reset_index(name='count').head()"
   ]
  },
  {
   "cell_type": "code",
   "execution_count": 10,
   "metadata": {},
   "outputs": [
    {
     "data": {
      "text/plain": [
       "(318, 3)"
      ]
     },
     "execution_count": 10,
     "metadata": {},
     "output_type": "execute_result"
    }
   ],
   "source": [
    "categorystatusdf.groupby(['category','newstate']).size().reset_index(name='count').shape"
   ]
  },
  {
   "cell_type": "markdown",
   "metadata": {},
   "source": [
    "As there are alot of records, it is difficult to analyze this. We decided to use the pivot table to transform & plot using stacked bar chart."
   ]
  },
  {
   "cell_type": "code",
   "execution_count": 11,
   "metadata": {},
   "outputs": [
    {
     "data": {
      "image/png": "[encoded data removed]",
      "text/plain": [
       "<Figure size 1152x576 with 1 Axes>"
      ]
     },
     "metadata": {
      "needs_background": "light"
     },
     "output_type": "display_data"
    }
   ],
   "source": [
    "categorystatusdf = updateddf.copy()\n",
    "categorystatusdf = categorystatusdf.groupby(['main_category','newstate']).size().reset_index(name='count')\n",
    "categorystatusdf\n",
    "\n",
    "categorystatuspivot = pd.pivot_table(categorystatusdf, index=['main_category'], columns=['newstate'],\n",
    "                                       values='count', aggfunc=np.sum)\n",
    "categorystatuspivot = categorystatuspivot.reset_index()\n",
    "categorystatuspivot.columns = ['main_category', 'failed', 'successful']\n",
    "# categorystatuspivot.head()\n",
    "categorystatuspivot_i = categorystatuspivot.set_index('main_category')\n",
    "categorystatuspivot_i\n",
    "fig, ax1 = plt.subplots()\n",
    "categorystatuspivot_i.plot(kind='bar', stacked=True, \n",
    "                                  figsize=(16,8), title=\"No. of Main Category by Failed/ Success\",\n",
    "                                   ax=ax1)\n",
    "ax1.set_ylabel(\"No. of Main Category\")\n",
    "plt.show()"
   ]
  },
  {
   "cell_type": "markdown",
   "metadata": {},
   "source": [
    "From here, we can quickly glance which main category has a higher chance of success. \n",
    "From here, we can conclude that Technology projects has already a higher chance to fail than succeed, \n",
    "rejecting our hypothesis that Technology projects has a higher chance of suceeding."
   ]
  },
  {
   "cell_type": "code",
   "execution_count": 66,
   "metadata": {},
   "outputs": [
    {
     "data": {
      "image/png": "[encoded data removed]",
      "text/plain": [
       "<Figure size 1152x576 with 1 Axes>"
      ]
     },
     "metadata": {
      "needs_background": "light"
     },
     "output_type": "display_data"
    }
   ],
   "source": [
    "categorystatusdf = updateddf.copy()\n",
    "categorystatusdf = categorystatusdf[categorystatusdf['main_category']=='Technology'].groupby(['category','newstate']).size().reset_index(name='count')\n",
    "categorystatusdf\n",
    "\n",
    "categorystatuspivot = pd.pivot_table(categorystatusdf, index=['category'], columns=['newstate'],\n",
    "                                       values='count', aggfunc=np.sum)\n",
    "categorystatuspivot = categorystatuspivot.reset_index()\n",
    "categorystatuspivot.columns = ['category', 'failed', 'successful']\n",
    "# categorystatuspivot.head()\n",
    "categorystatuspivot_i = categorystatuspivot.set_index('category')\n",
    "categorystatuspivot_i\n",
    "fig, ax1 = plt.subplots()\n",
    "categorystatuspivot_i.plot(kind='bar', stacked=True, \n",
    "                                  figsize=(16,8), title=\"No. of Sub Category in Technology Projects by Failed/ Success\",\n",
    "                                   ax=ax1)\n",
    "\n",
    "ax1.set_xlabel(\"Sub Categories in Technology Projects\")\n",
    "ax1.set_ylabel(\"No. of Sub Category in Technology Projects\")\n",
    "plt.show()"
   ]
  },
  {
   "cell_type": "code",
   "execution_count": 71,
   "metadata": {},
   "outputs": [
    {
     "data": {
      "image/png": "[encoded data removed]",
      "text/plain": [
       "<Figure size 1152x576 with 1 Axes>"
      ]
     },
     "metadata": {
      "needs_background": "light"
     },
     "output_type": "display_data"
    }
   ],
   "source": [
    "countrydf = updateddf.copy()\n",
    "countrydf = countrydf.groupby(['country','newstate']).size().reset_index(name='count')\n",
    "\n",
    "countrydfpivot = pd.pivot_table(countrydf, index=['country'], columns=['newstate'],\n",
    "                                       values='count', aggfunc=np.sum)\n",
    "countrydfpivot = countrydfpivot.reset_index()\n",
    "countrydfpivot.columns = ['country', 'failed', 'successful']\n",
    "# categorystatuspivot.head()\n",
    "countrydfpivot_i = countrydfpivot.set_index('country')\n",
    "countrydfpivot_i\n",
    "fig, ax1 = plt.subplots()\n",
    "countrydfpivot_i.plot(kind='bar', stacked=True, \n",
    "                                  figsize=(16,8), title=\"No. of Countries by Failed/ Success\",\n",
    "                                   ax=ax1)\n",
    "\n",
    "ax1.set_xlabel(\"Countries\")\n",
    "ax1.set_ylabel(\"No. of Kickstarter Projects by Countries\")\n",
    "plt.show()"
   ]
  },
  {
   "cell_type": "markdown",
   "metadata": {},
   "source": [
    "<h1>Using Decision Tree to analyze what would make a project have a high chance of success</h1>"
   ]
  },
  {
   "cell_type": "markdown",
   "metadata": {},
   "source": [
    "<h2>Creating Dummy Variables for Categorical Data</h2>\n",
    "<br>\n",
    "As decision tree cannot use categorical data, dummy variables will be created for Main Category, Sub Category & Country."
   ]
  },
  {
   "cell_type": "code",
   "execution_count": 12,
   "metadata": {},
   "outputs": [],
   "source": [
    "maincategorylist = list(updateddf['main_category'].unique())\n",
    "categorydummy =  {}\n",
    "for i in range(len(maincategorylist)):\n",
    "    categorydummy[maincategorylist[i]] = i\n",
    "dummydf = updateddf.copy()\n",
    "\n",
    "subcategorylist = list(updateddf['category'].unique())\n",
    "subcategorydummy =  {}\n",
    "for i in range(len(subcategorylist)):\n",
    "    subcategorydummy[subcategorylist[i]] = i\n",
    "\n",
    "countrylist = list(updateddf['country'].unique())\n",
    "countrydummy =  {}\n",
    "for i in range(len(countrylist)):\n",
    "    countrydummy[countrylist[i]] = i\n",
    "    \n",
    "\n",
    "for key,value in subcategorydummy.items():\n",
    "    dummydf.loc[dummydf.category == key, 'dummysubcategory'] = value\n",
    "for key,value in categorydummy.items():\n",
    "    dummydf.loc[dummydf.main_category == key, 'dummycategory'] = value\n",
    "for key,value in countrydummy.items():\n",
    "    dummydf.loc[dummydf.country == key, 'dummycountry'] = value\n",
    "    \n",
    "# dummydf"
   ]
  },
  {
   "cell_type": "markdown",
   "metadata": {},
   "source": [
    "<h2>Splitting into X & Y Variables</h2>\n",
    "\n",
    "After the dataset is split into X & Y variables, X variables are normalised using StandardScaler.fit_transform.\n",
    "\n",
    "This is to improve the accuracy of the model, bringing all range of the X variables into a similar range.\n",
    "\n",
    "Based on our above analysis, we will use Category, SubCategory, USD Pledged Real & USD Goal Real to train our model.\n",
    "\n",
    "We would also like to use the duration of the funding (deadline - launched) as a feature to train our model. \n",
    "\n",
    "However, the conversion process is too complicated and thus, the model might not be too accurate."
   ]
  },
  {
   "cell_type": "code",
   "execution_count": 13,
   "metadata": {},
   "outputs": [
    {
     "data": {
      "text/plain": [
       "DecisionTreeClassifier(class_weight=None, criterion='entropy', max_depth=None,\n",
       "            max_features=None, max_leaf_nodes=None,\n",
       "            min_impurity_decrease=0.0, min_impurity_split=None,\n",
       "            min_samples_leaf=1, min_samples_split=2,\n",
       "            min_weight_fraction_leaf=0.0, presort=False, random_state=None,\n",
       "            splitter='best')"
      ]
     },
     "execution_count": 13,
     "metadata": {},
     "output_type": "execute_result"
    }
   ],
   "source": [
    "X = dummydf[['dummycategory', 'dummysubcategory','dummycountry', 'usd_pledged_real','usd_goal_real']]\n",
    "y = dummydf.newstate\n",
    "\n",
    "y = y.values.reshape(y.shape[0],1)\n",
    "X.shape\n",
    "sc = StandardScaler()\n",
    "X = sc.fit_transform(X)\n",
    "X_train, X_test, y_train, y_test = train_test_split(X, y, train_size=0.8, test_size=0.2, random_state=666)\n",
    "dtree_model = DecisionTreeClassifier(criterion=\"entropy\")\n",
    "\n",
    "# Use the fit() function to train the decision tree model on the training set\n",
    "#\n",
    "dtree_model.fit(X_train, y_train)"
   ]
  },
  {
   "cell_type": "markdown",
   "metadata": {},
   "source": [
    "<h2>Training Decision Tree without any specific parameters</h2>\n",
    "\n",
    "We decided to train our Decision Tree model without tuning any parameters first."
   ]
  },
  {
   "cell_type": "code",
   "execution_count": 14,
   "metadata": {
    "scrolled": true
   },
   "outputs": [
    {
     "name": "stdout",
     "output_type": "stream",
     "text": [
      "[[48220    24]\n",
      " [   18 27471]]\n",
      "Accuracy for Model : 1.0\n",
      "Precision for Model : 1.0\n",
      "Sensitivity/Recall for Model : 1.0\n",
      "F1 Score for Model : 1.0\n"
     ]
    }
   ],
   "source": [
    "# Use the model to predict the outcome on the test set\n",
    "#\n",
    "y_pred = dtree_model.predict(X_test)\n",
    "\n",
    "cm = confusion_matrix(y_test, y_pred)\n",
    "print(cm)\n",
    "\n",
    "# Find the accuracy score of the result\n",
    "f1Score = round(f1_score(y_test, y_pred), 2)\n",
    "recallScore = round(recall_score(y_test, y_pred), 2)\n",
    "precscore = round(precision_score(y_test, y_pred), 2)\n",
    "accScore = round(accuracy_score(y_test, y_pred), 2)\n",
    "\n",
    "\n",
    "print(\"Accuracy for Model : {acc_score}\".format(acc_score = accScore))\n",
    "print(\"Precision for Model : {prec_score}\".format(prec_score = precscore))\n",
    "print(\"Sensitivity/Recall for Model : {recall_score}\".format(recall_score = recallScore))\n",
    "print(\"F1 Score for Model : {f1_score}\".format(f1_score = f1Score))\n",
    "\n",
    "# The Decision tree is too good to be true, having an accuracy sco"
   ]
  },
  {
   "cell_type": "markdown",
   "metadata": {},
   "source": [
    "This shows that the model is predicting close to 100%, indicating that it is overfitting. As the number of features we have used are too less, we would instead look on how to prune the tree."
   ]
  },
  {
   "cell_type": "markdown",
   "metadata": {},
   "source": [
    "<h2> Tuning Parameters </h2>\n",
    "<h3> Setting Max Depth </h3>"
   ]
  },
  {
   "cell_type": "code",
   "execution_count": 15,
   "metadata": {},
   "outputs": [
    {
     "data": {
      "image/png": "[encoded data removed]",
      "text/plain": [
       "<Figure size 432x288 with 1 Axes>"
      ]
     },
     "metadata": {
      "needs_background": "light"
     },
     "output_type": "display_data"
    }
   ],
   "source": [
    "max_depths = np.linspace(1, 5, 5, endpoint=True)\n",
    "train_results = []\n",
    "test_results = []\n",
    "for max_depth in max_depths:\n",
    "    dt = DecisionTreeClassifier(max_depth=max_depth)\n",
    "    dt.fit(X_train, y_train)\n",
    "    train_pred = dt.predict(X_train)\n",
    "    false_positive_rate, true_positive_rate, thresholds = roc_curve(y_train, train_pred)\n",
    "    roc_auc = auc(false_positive_rate, true_positive_rate)\n",
    "    # Add auc score to previous train results\n",
    "    train_results.append(roc_auc)\n",
    "    y_pred = dt.predict(X_test)\n",
    "    false_positive_rate, true_positive_rate, thresholds = roc_curve(y_test, y_pred)\n",
    "    roc_auc = auc(false_positive_rate, true_positive_rate)\n",
    "    # Add auc score to previous test results\n",
    "    test_results.append(roc_auc)\n",
    "# from matplotlib.legend_handler import HandlerLine2D\n",
    "line1 = plt.plot(max_depths, train_results, 'b', label='Train AUC')\n",
    "line2 = plt.plot(max_depths, test_results, 'r', label='Test AUC')\n",
    "# plt.legend(handler_map={line1: HandlerLine2D(numpoints=2)})\n",
    "plt.legend()\n",
    "plt.ylabel('AUC score')\n",
    "plt.xlabel('Tree depth')\n",
    "plt.show()"
   ]
  },
  {
   "cell_type": "markdown",
   "metadata": {},
   "source": [
    "This shows that the best tree-depth to stop is 3. \n",
    "If we were to stop at a tree depth of 2, it may cause underfitting.\n",
    "If we were to increase its value beyond 3, it will cause overfitting."
   ]
  },
  {
   "cell_type": "markdown",
   "metadata": {},
   "source": [
    "<h2> Validating with Analysis</h2>"
   ]
  },
  {
   "cell_type": "code",
   "execution_count": 16,
   "metadata": {},
   "outputs": [
    {
     "name": "stdout",
     "output_type": "stream",
     "text": [
      "[[42793  5451]\n",
      " [  247 27242]]\n",
      "Accuracy for Model with Max Depth of 3 : 0.92\n",
      "Precision for Model with Max Depth of 3 : 0.83\n",
      "Sensitivity/Recall for Model with Max Depth of 3 : 0.99\n",
      "F1 Score for Model with Max Depth of 3 : 0.91\n"
     ]
    }
   ],
   "source": [
    "dtree_model = DecisionTreeClassifier(criterion=\"entropy\",max_depth=3)\n",
    "\n",
    "# Use the fit() function to train the decision tree model on the training set\n",
    "#\n",
    "dtree_model.fit(X_train, y_train)\n",
    "\n",
    "# Use the model to predict the outcome on the test set\n",
    "#\n",
    "y_pred = dtree_model.predict(X_test)\n",
    "\n",
    "cm = confusion_matrix(y_test, y_pred)\n",
    "print(cm)\n",
    "\n",
    "# Find the accuracy score of the result\n",
    "f1Score = round(f1_score(y_test, y_pred), 2)\n",
    "recallScore = round(recall_score(y_test, y_pred), 2)\n",
    "precscore = round(precision_score(y_test, y_pred), 2)\n",
    "accScore = round(accuracy_score(y_test, y_pred), 2)\n",
    "\n",
    "print(\"Accuracy for Model with Max Depth of 3 : {acc_score}\".format(acc_score = accScore))\n",
    "print(\"Precision for Model with Max Depth of 3 : {prec_score}\".format(prec_score = precscore))\n",
    "print(\"Sensitivity/Recall for Model with Max Depth of 3 : {recall_score}\".format(recall_score = recallScore))\n",
    "print(\"F1 Score for Model with Max Depth of 3 : {f1_score}\".format(f1_score = f1Score))"
   ]
  },
  {
   "cell_type": "markdown",
   "metadata": {},
   "source": [
    "<h2>Final Analysis of tuning for max depth</h2>"
   ]
  },
  {
   "cell_type": "markdown",
   "metadata": {},
   "source": [
    "By using a max depth of 3, the F1 score has dropped from a close estimate of 100% to 91%, making it more realistic than before. To ensure that this result is not a mere conincidence, we will use K-fold cross validation to ensure that our model is indeed accurate."
   ]
  },
  {
   "cell_type": "markdown",
   "metadata": {},
   "source": [
    "<h2>K-Fold Cross Validation (10 Folds)</h2>"
   ]
  },
  {
   "cell_type": "code",
   "execution_count": 17,
   "metadata": {},
   "outputs": [
    {
     "name": "stdout",
     "output_type": "stream",
     "text": [
      "\n",
      "Metrics for fold number: 1\n",
      "Accuracy for Model : 0.93\n",
      "Precision for Model : 0.84\n",
      "Sensitivity/Recall for Model : 0.99\n",
      "F1 Score for Model : 0.91\n",
      "AUC for Model : 0.94\n",
      "\n",
      "Metrics for fold number: 2\n",
      "Accuracy for Model : 0.93\n",
      "Precision for Model : 0.84\n",
      "Sensitivity/Recall for Model : 0.99\n",
      "F1 Score for Model : 0.91\n",
      "AUC for Model : 0.94\n",
      "\n",
      "Metrics for fold number: 3\n",
      "Accuracy for Model : 0.92\n",
      "Precision for Model : 0.82\n",
      "Sensitivity/Recall for Model : 0.99\n",
      "F1 Score for Model : 0.9\n",
      "AUC for Model : 0.94\n",
      "\n",
      "Metrics for fold number: 4\n",
      "Accuracy for Model : 0.92\n",
      "Precision for Model : 0.82\n",
      "Sensitivity/Recall for Model : 0.99\n",
      "F1 Score for Model : 0.9\n",
      "AUC for Model : 0.93\n",
      "\n",
      "Metrics for fold number: 5\n",
      "Accuracy for Model : 0.92\n",
      "Precision for Model : 0.82\n",
      "Sensitivity/Recall for Model : 0.99\n",
      "F1 Score for Model : 0.9\n",
      "AUC for Model : 0.93\n",
      "\n",
      "Metrics for fold number: 6\n",
      "Accuracy for Model : 0.92\n",
      "Precision for Model : 0.82\n",
      "Sensitivity/Recall for Model : 0.99\n",
      "F1 Score for Model : 0.9\n",
      "AUC for Model : 0.94\n",
      "\n",
      "Metrics for fold number: 7\n",
      "Accuracy for Model : 0.92\n",
      "Precision for Model : 0.83\n",
      "Sensitivity/Recall for Model : 0.99\n",
      "F1 Score for Model : 0.9\n",
      "AUC for Model : 0.94\n",
      "\n",
      "Metrics for fold number: 8\n",
      "Accuracy for Model : 0.93\n",
      "Precision for Model : 0.84\n",
      "Sensitivity/Recall for Model : 0.99\n",
      "F1 Score for Model : 0.91\n",
      "AUC for Model : 0.94\n",
      "\n",
      "Metrics for fold number: 9\n",
      "Accuracy for Model : 0.92\n",
      "Precision for Model : 0.83\n",
      "Sensitivity/Recall for Model : 0.99\n",
      "F1 Score for Model : 0.9\n",
      "AUC for Model : 0.94\n",
      "\n",
      "Metrics for fold number: 10\n",
      "Accuracy for Model : 0.93\n",
      "Precision for Model : 0.83\n",
      "Sensitivity/Recall for Model : 0.99\n",
      "F1 Score for Model : 0.91\n",
      "AUC for Model : 0.94\n",
      "\n",
      "Summary metrics:\n",
      "Accuracy for Model : 0.92\n",
      "Precision for Model : 0.83\n",
      "Sensitivity/Recall for Model : 0.99\n",
      "F1 Score for Model : 0.9\n",
      "AUC for Model : 0.94\n"
     ]
    }
   ],
   "source": [
    "#Define parameters for k-fold cv\n",
    "n_splits = 10\n",
    "kf = KFold(n_splits)\n",
    "\n",
    "counter = 1\n",
    "f1Scores = []\n",
    "recallScores = []\n",
    "precscores = []\n",
    "accScores = []\n",
    "aucScores = []\n",
    "#Start k-fold cross validation \n",
    "for train_index, test_index in kf.split(X):\n",
    "    \n",
    "    #Split into training and testing set\n",
    "    X_train, X_test = X[train_index], X[test_index]\n",
    "    y_train, y_test = y[train_index], y[test_index]\n",
    "    \n",
    "    dtree_model = DecisionTreeClassifier(criterion=\"entropy\",max_depth=3)\n",
    "\n",
    "    # Use the fit() function to train the decision tree model on the training set\n",
    "    #\n",
    "    dtree_model.fit(X_train, y_train)\n",
    "\n",
    "    # Use the model to predict the outcome on the test set\n",
    "    #\n",
    "    y_pred = dtree_model.predict(X_test)\n",
    "\n",
    "    cm = confusion_matrix(y_test, y_pred)\n",
    "\n",
    "    # Find the accuracy score of the result\n",
    "    f1Score = round(f1_score(y_test, y_pred), 2)\n",
    "    recallScore = round(recall_score(y_test, y_pred), 2)\n",
    "    precscore = round(precision_score(y_test, y_pred), 2)\n",
    "    accScore = round(accuracy_score(y_test, y_pred), 2)\n",
    "    \n",
    "    print('\\nMetrics for fold number: ' + str(counter))\n",
    "    counter += 1\n",
    "    false_positive_rate, true_positive_rate, thresholds = roc_curve(y_test, y_pred)\n",
    "    roc_auc = round(auc(false_positive_rate, true_positive_rate),2)\n",
    "    # Add auc score to previous test results\n",
    "    aucScores.append(roc_auc)\n",
    "    print(\"Accuracy for Model : {acc_score}\".format(acc_score = accScore))\n",
    "    print(\"Precision for Model : {prec_score}\".format(prec_score = precscore))\n",
    "    print(\"Sensitivity/Recall for Model : {recall_score}\".format(recall_score = recallScore))\n",
    "    print(\"F1 Score for Model : {f1_score}\".format(f1_score = f1Score))\n",
    "    print(\"AUC for Model : {auc}\".format(auc = roc_auc))\n",
    "    #Print metrics and store in numpy array to average after end of cv\n",
    "    \n",
    "    f1Scores.append(f1Score)\n",
    "    recallScores.append(recallScore)\n",
    "    precscores.append(precscore)\n",
    "    accScores.append(accScore)\n",
    "    \n",
    "#Averaging of metrics    \n",
    "avgf1 = round(sum(f1Scores)/len(f1Scores),2)\n",
    "avgrecall = round(sum(recallScores)/len(recallScores),2)\n",
    "avgprec = round(sum(precscores)/len(precscores),2)\n",
    "avgacc = round(sum(accScores)/len(accScores),2)\n",
    "avgauc = round(sum(aucScores)/len(aucScores),2)\n",
    "\n",
    "print('\\nSummary metrics:')\n",
    "print(\"Accuracy for Model : {acc_score}\".format(acc_score = avgacc))\n",
    "print(\"Precision for Model : {prec_score}\".format(prec_score = avgprec))\n",
    "print(\"Sensitivity/Recall for Model : {recall_score}\".format(recall_score = avgrecall))\n",
    "print(\"F1 Score for Model : {f1_score}\".format(f1_score = avgf1))\n",
    "print(\"AUC for Model : {auc}\".format(auc = avgauc))"
   ]
  },
  {
   "cell_type": "markdown",
   "metadata": {},
   "source": [
    "This shows that our model indeeds perform at a consistent accuracy rate of having 91% F1 score."
   ]
  },
  {
   "cell_type": "markdown",
   "metadata": {},
   "source": [
    "<h2>Analyzing feature importance of Kickstarter Projects</h2>"
   ]
  },
  {
   "cell_type": "code",
   "execution_count": 18,
   "metadata": {},
   "outputs": [
    {
     "name": "stdout",
     "output_type": "stream",
     "text": [
      "Feature importances:\n",
      "[0.        0.        0.        0.8153921 0.1846079]\n"
     ]
    }
   ],
   "source": [
    "# Find out the features that have the most importance\n",
    "print(\"Feature importances:\\n{}\".format(dtree_model.feature_importances_))"
   ]
  },
  {
   "cell_type": "code",
   "execution_count": 19,
   "metadata": {},
   "outputs": [
    {
     "data": {
      "text/html": [
       "<div>\n",
       "<style scoped>\n",
       "    .dataframe tbody tr th:only-of-type {\n",
       "        vertical-align: middle;\n",
       "    }\n",
       "\n",
       "    .dataframe tbody tr th {\n",
       "        vertical-align: top;\n",
       "    }\n",
       "\n",
       "    .dataframe thead th {\n",
       "        text-align: right;\n",
       "    }\n",
       "</style>\n",
       "<table border=\"1\" class=\"dataframe\">\n",
       "  <thead>\n",
       "    <tr style=\"text-align: right;\">\n",
       "      <th></th>\n",
       "      <th>labels</th>\n",
       "      <th>values</th>\n",
       "    </tr>\n",
       "  </thead>\n",
       "  <tbody>\n",
       "    <tr>\n",
       "      <th>0</th>\n",
       "      <td>dummycategory</td>\n",
       "      <td>0.000000</td>\n",
       "    </tr>\n",
       "    <tr>\n",
       "      <th>1</th>\n",
       "      <td>dummysubcategory</td>\n",
       "      <td>0.000000</td>\n",
       "    </tr>\n",
       "    <tr>\n",
       "      <th>2</th>\n",
       "      <td>dummcountry</td>\n",
       "      <td>0.000000</td>\n",
       "    </tr>\n",
       "    <tr>\n",
       "      <th>3</th>\n",
       "      <td>usd_pledged_real</td>\n",
       "      <td>0.815392</td>\n",
       "    </tr>\n",
       "    <tr>\n",
       "      <th>4</th>\n",
       "      <td>usd_goal_real</td>\n",
       "      <td>0.184608</td>\n",
       "    </tr>\n",
       "  </tbody>\n",
       "</table>\n",
       "</div>"
      ],
      "text/plain": [
       "             labels    values\n",
       "0     dummycategory  0.000000\n",
       "1  dummysubcategory  0.000000\n",
       "2       dummcountry  0.000000\n",
       "3  usd_pledged_real  0.815392\n",
       "4     usd_goal_real  0.184608"
      ]
     },
     "metadata": {},
     "output_type": "display_data"
    },
    {
     "data": {
      "image/png": "[encoded data removed]",
      "text/plain": [
       "<Figure size 648x432 with 1 Axes>"
      ]
     },
     "metadata": {
      "needs_background": "light"
     },
     "output_type": "display_data"
    }
   ],
   "source": [
    "feats_df = pd.DataFrame({'labels' : ['dummycategory','dummysubcategory','dummcountry','usd_pledged_real','usd_goal_real'], 'values' : dtree_model.feature_importances_})\n",
    "display(feats_df)\n",
    "###\n",
    "fig = plt.figure(figsize=(9,6))\n",
    "ax = fig.add_subplot(111)\n",
    "\n",
    "feats_df.plot(kind='barh', x='labels', y='values', ax=ax, color='steelblue')\n",
    "\n",
    "# Additional parameters are given to you.\n",
    "ax.set_title(\"Feature Importance Plot for the Kickstarter 2018 dataset\", fontsize=14)\n",
    "ax.set_xlabel(\"Feature importance\")\n",
    "ax.set_ylabel(\"Feature\")\n",
    "plt.show()"
   ]
  },
  {
   "cell_type": "markdown",
   "metadata": {},
   "source": [
    "Therefore, we can conclude that the category of the project does not determine the success of the project. The amount of money pledged determines about 82% of how successful the project is while the amount of money the user targets determines 18%."
   ]
  }
 ],
 "metadata": {
  "kernelspec": {
   "display_name": "Python 3",
   "language": "python",
   "name": "python3"
  },
  "language_info": {
   "codemirror_mode": {
    "name": "ipython",
    "version": 3
   },
   "file_extension": ".py",
   "mimetype": "text/x-python",
   "name": "python",
   "nbconvert_exporter": "python",
   "pygments_lexer": "ipython3",
   "version": "3.7.1"
  }
 },
 "nbformat": 4,
 "nbformat_minor": 2
}
